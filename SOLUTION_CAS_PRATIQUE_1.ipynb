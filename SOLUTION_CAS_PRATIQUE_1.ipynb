{
 "cells": [
  {
   "cell_type": "code",
   "execution_count": 1,
   "id": "c88d5be8",
   "metadata": {},
   "outputs": [],
   "source": [
    "import numpy as np\n",
    "import pandas as pd\n",
    "import matplotlib.pyplot as plt\n",
    "import xlwings as xw"
   ]
  },
  {
   "cell_type": "code",
   "execution_count": 2,
   "id": "245b99d9",
   "metadata": {},
   "outputs": [
    {
     "name": "stdout",
     "output_type": "stream",
     "text": [
      "les noms des feuilles sont : ['Pluvio_fatick', 'Pluvio_Toubacouta', 'Pluvio_Foundioune']\n"
     ]
    }
   ],
   "source": [
    "Dp=pd.ExcelFile(\"pluvio_senegal.xlsx\", engine=\"openpyxl\")\n",
    "print(\"les noms des feuilles sont :\" ,Dp.sheet_names)"
   ]
  },
  {
   "cell_type": "markdown",
   "id": "2c900177",
   "metadata": {},
   "source": [
    "2. Charger et afficher une feuille de votre choix."
   ]
  },
  {
   "cell_type": "code",
   "execution_count": 3,
   "id": "03b612c0",
   "metadata": {},
   "outputs": [
    {
     "data": {
      "text/html": [
       "<div><div id=22a8fac7-eade-4991-b09f-54c79ac47826 style=\"display:none; background-color:#9D6CFF; color:white; width:200px; height:30px; padding-left:5px; border-radius:4px; flex-direction:row; justify-content:space-around; align-items:center;\" onmouseover=\"this.style.backgroundColor='#BA9BF8'\" onmouseout=\"this.style.backgroundColor='#9D6CFF'\" onclick=\"window.commands?.execute('create-mitosheet-from-dataframe-output');\">See Full Dataframe in Mito</div> <script> if (window.commands.hasCommand('create-mitosheet-from-dataframe-output')) document.getElementById('22a8fac7-eade-4991-b09f-54c79ac47826').style.display = 'flex' </script> <table border=\"1\" class=\"dataframe\">\n",
       "  <thead>\n",
       "    <tr style=\"text-align: right;\">\n",
       "      <th></th>\n",
       "      <th>Stations</th>\n",
       "      <th>Annees</th>\n",
       "      <th>Janv</th>\n",
       "      <th>Fevr</th>\n",
       "      <th>Mars</th>\n",
       "      <th>Avr</th>\n",
       "      <th>Mai</th>\n",
       "      <th>Juin</th>\n",
       "      <th>Juil</th>\n",
       "      <th>Aout</th>\n",
       "      <th>Sept</th>\n",
       "      <th>Oct</th>\n",
       "      <th>Nov</th>\n",
       "      <th>Dec</th>\n",
       "    </tr>\n",
       "  </thead>\n",
       "  <tbody>\n",
       "    <tr>\n",
       "      <th>0</th>\n",
       "      <td>Toubacouta</td>\n",
       "      <td>1950</td>\n",
       "      <td>0.0</td>\n",
       "      <td>0.0</td>\n",
       "      <td>0</td>\n",
       "      <td>0.0</td>\n",
       "      <td>5.7</td>\n",
       "      <td>75.3</td>\n",
       "      <td>192.2</td>\n",
       "      <td>567.0</td>\n",
       "      <td>327.8</td>\n",
       "      <td>117.1</td>\n",
       "      <td>4.4</td>\n",
       "      <td>0.0</td>\n",
       "    </tr>\n",
       "    <tr>\n",
       "      <th>1</th>\n",
       "      <td>Toubacouta</td>\n",
       "      <td>1951</td>\n",
       "      <td>0.0</td>\n",
       "      <td>0.0</td>\n",
       "      <td>0</td>\n",
       "      <td>0.0</td>\n",
       "      <td>16.6</td>\n",
       "      <td>35.7</td>\n",
       "      <td>209.7</td>\n",
       "      <td>269.7</td>\n",
       "      <td>293.1</td>\n",
       "      <td>243.9</td>\n",
       "      <td>127.0</td>\n",
       "      <td>0.0</td>\n",
       "    </tr>\n",
       "    <tr>\n",
       "      <th>2</th>\n",
       "      <td>Toubacouta</td>\n",
       "      <td>1952</td>\n",
       "      <td>0.1</td>\n",
       "      <td>0.0</td>\n",
       "      <td>0</td>\n",
       "      <td>0.2</td>\n",
       "      <td>17.3</td>\n",
       "      <td>57.4</td>\n",
       "      <td>324.4</td>\n",
       "      <td>327.6</td>\n",
       "      <td>328.6</td>\n",
       "      <td>88.1</td>\n",
       "      <td>3.1</td>\n",
       "      <td>0.0</td>\n",
       "    </tr>\n",
       "    <tr>\n",
       "      <th>3</th>\n",
       "      <td>Toubacouta</td>\n",
       "      <td>1953</td>\n",
       "      <td>0.0</td>\n",
       "      <td>0.0</td>\n",
       "      <td>0</td>\n",
       "      <td>0.0</td>\n",
       "      <td>0.3</td>\n",
       "      <td>45.7</td>\n",
       "      <td>253.7</td>\n",
       "      <td>306.9</td>\n",
       "      <td>365.4</td>\n",
       "      <td>97.0</td>\n",
       "      <td>0.0</td>\n",
       "      <td>0.0</td>\n",
       "    </tr>\n",
       "    <tr>\n",
       "      <th>4</th>\n",
       "      <td>Toubacouta</td>\n",
       "      <td>1954</td>\n",
       "      <td>0.0</td>\n",
       "      <td>16.9</td>\n",
       "      <td>0</td>\n",
       "      <td>0.0</td>\n",
       "      <td>0.0</td>\n",
       "      <td>58.2</td>\n",
       "      <td>253.5</td>\n",
       "      <td>NaN</td>\n",
       "      <td>149.9</td>\n",
       "      <td>60.3</td>\n",
       "      <td>7.0</td>\n",
       "      <td>0.0</td>\n",
       "    </tr>\n",
       "    <tr>\n",
       "      <th>...</th>\n",
       "      <td>...</td>\n",
       "      <td>...</td>\n",
       "      <td>...</td>\n",
       "      <td>...</td>\n",
       "      <td>...</td>\n",
       "      <td>...</td>\n",
       "      <td>...</td>\n",
       "      <td>...</td>\n",
       "      <td>...</td>\n",
       "      <td>...</td>\n",
       "      <td>...</td>\n",
       "      <td>...</td>\n",
       "      <td>...</td>\n",
       "      <td>...</td>\n",
       "    </tr>\n",
       "    <tr>\n",
       "      <th>63</th>\n",
       "      <td>Toubacouta</td>\n",
       "      <td>2013</td>\n",
       "      <td>0.0</td>\n",
       "      <td>0.0</td>\n",
       "      <td>0</td>\n",
       "      <td>0.0</td>\n",
       "      <td>4.0</td>\n",
       "      <td>69.0</td>\n",
       "      <td>152.5</td>\n",
       "      <td>904.5</td>\n",
       "      <td>137.0</td>\n",
       "      <td>0.0</td>\n",
       "      <td>0.0</td>\n",
       "      <td>0.0</td>\n",
       "    </tr>\n",
       "    <tr>\n",
       "      <th>64</th>\n",
       "      <td>Toubacouta</td>\n",
       "      <td>2014</td>\n",
       "      <td>0.0</td>\n",
       "      <td>0.0</td>\n",
       "      <td>0</td>\n",
       "      <td>0.0</td>\n",
       "      <td>0.0</td>\n",
       "      <td>72.0</td>\n",
       "      <td>22.0</td>\n",
       "      <td>252.0</td>\n",
       "      <td>427.0</td>\n",
       "      <td>43.0</td>\n",
       "      <td>0.0</td>\n",
       "      <td>0.0</td>\n",
       "    </tr>\n",
       "    <tr>\n",
       "      <th>65</th>\n",
       "      <td>Toubacouta</td>\n",
       "      <td>2015</td>\n",
       "      <td>0.0</td>\n",
       "      <td>0.0</td>\n",
       "      <td>0</td>\n",
       "      <td>0.0</td>\n",
       "      <td>0.0</td>\n",
       "      <td>0.0</td>\n",
       "      <td>267.4</td>\n",
       "      <td>230.8</td>\n",
       "      <td>370.1</td>\n",
       "      <td>78.0</td>\n",
       "      <td>0.0</td>\n",
       "      <td>0.0</td>\n",
       "    </tr>\n",
       "    <tr>\n",
       "      <th>66</th>\n",
       "      <td>Toubacouta</td>\n",
       "      <td>2016</td>\n",
       "      <td>0.0</td>\n",
       "      <td>0.0</td>\n",
       "      <td>0</td>\n",
       "      <td>0.0</td>\n",
       "      <td>0.0</td>\n",
       "      <td>6.0</td>\n",
       "      <td>264.0</td>\n",
       "      <td>198.0</td>\n",
       "      <td>256.5</td>\n",
       "      <td>202.8</td>\n",
       "      <td>0.0</td>\n",
       "      <td>0.0</td>\n",
       "    </tr>\n",
       "    <tr>\n",
       "      <th>67</th>\n",
       "      <td>Toubacouta</td>\n",
       "      <td>2017</td>\n",
       "      <td>0.0</td>\n",
       "      <td>0.0</td>\n",
       "      <td>0</td>\n",
       "      <td>0.0</td>\n",
       "      <td>0.0</td>\n",
       "      <td>34.0</td>\n",
       "      <td>171.0</td>\n",
       "      <td>159.0</td>\n",
       "      <td>137.0</td>\n",
       "      <td>4.0</td>\n",
       "      <td>0.0</td>\n",
       "      <td>0.0</td>\n",
       "    </tr>\n",
       "  </tbody>\n",
       "</table></div>"
      ],
      "text/plain": [
       "      Stations  Annees  Janv  Fevr  Mars  Avr   Mai  Juin   Juil   Aout  \\\n",
       "0   Toubacouta    1950   0.0   0.0     0  0.0   5.7  75.3  192.2  567.0   \n",
       "1   Toubacouta    1951   0.0   0.0     0  0.0  16.6  35.7  209.7  269.7   \n",
       "2   Toubacouta    1952   0.1   0.0     0  0.2  17.3  57.4  324.4  327.6   \n",
       "3   Toubacouta    1953   0.0   0.0     0  0.0   0.3  45.7  253.7  306.9   \n",
       "4   Toubacouta    1954   0.0  16.9     0  0.0   0.0  58.2  253.5    NaN   \n",
       "..         ...     ...   ...   ...   ...  ...   ...   ...    ...    ...   \n",
       "63  Toubacouta    2013   0.0   0.0     0  0.0   4.0  69.0  152.5  904.5   \n",
       "64  Toubacouta    2014   0.0   0.0     0  0.0   0.0  72.0   22.0  252.0   \n",
       "65  Toubacouta    2015   0.0   0.0     0  0.0   0.0   0.0  267.4  230.8   \n",
       "66  Toubacouta    2016   0.0   0.0     0  0.0   0.0   6.0  264.0  198.0   \n",
       "67  Toubacouta    2017   0.0   0.0     0  0.0   0.0  34.0  171.0  159.0   \n",
       "\n",
       "     Sept    Oct    Nov  Dec  \n",
       "0   327.8  117.1    4.4  0.0  \n",
       "1   293.1  243.9  127.0  0.0  \n",
       "2   328.6   88.1    3.1  0.0  \n",
       "3   365.4   97.0    0.0  0.0  \n",
       "4   149.9   60.3    7.0  0.0  \n",
       "..    ...    ...    ...  ...  \n",
       "63  137.0    0.0    0.0  0.0  \n",
       "64  427.0   43.0    0.0  0.0  \n",
       "65  370.1   78.0    0.0  0.0  \n",
       "66  256.5  202.8    0.0  0.0  \n",
       "67  137.0    4.0    0.0  0.0  \n",
       "\n",
       "[68 rows x 14 columns]"
      ]
     },
     "execution_count": 3,
     "metadata": {},
     "output_type": "execute_result"
    }
   ],
   "source": [
    "toubacouta = Dp.parse(\"Pluvio_Toubacouta\")\n",
    "toubacouta"
   ]
  },
  {
   "cell_type": "code",
   "execution_count": 4,
   "id": "bd4801c1",
   "metadata": {},
   "outputs": [
    {
     "data": {
      "image/png": "[encoded data removed]",
      "text/plain": [
       "<Figure size 432x288 with 1 Axes>"
      ]
     },
     "metadata": {
      "needs_background": "light"
     },
     "output_type": "display_data"
    }
   ],
   "source": [
    "import numpy as np\n",
    "import matplotlib.pyplot as plt\n",
    "x = toubacouta['Annees'].values\n",
    "y = toubacouta['Janv'].values\n",
    "plt.plot(x, y)\n",
    "plt.subplot(111)\n",
    "plt.title(\"courbe pluvio du mois de janvier f(années)\")\n",
    "plt.xlim(1950,2020)\n",
    "plt.ylim(-1,30)\n",
    "plt.xlabel(\"ANNEES\")\n",
    "plt.ylabel(\"PLUVIO_JANV\")\n",
    "plt.grid()\n",
    "plt.show()"
   ]
  },
  {
   "cell_type": "code",
   "execution_count": 5,
   "id": "f669f99d",
   "metadata": {},
   "outputs": [
    {
     "data": {
      "text/plain": [
       "<function matplotlib.pyplot.show(close=None, block=None)>"
      ]
     },
     "execution_count": 5,
     "metadata": {},
     "output_type": "execute_result"
    },
    {
     "data": {
      "image/png": "[encoded data removed]",
      "text/plain": [
       "<Figure size 432x288 with 1 Axes>"
      ]
     },
     "metadata": {
      "needs_background": "light"
     },
     "output_type": "display_data"
    }
   ],
   "source": [
    "x1=toubacouta.Annees[50:61]\n",
    "y1=toubacouta.Janv[50:61]\n",
    "plt.plot(x1,y1)\n",
    "plt.xlim()\n",
    "plt.ylim()\n",
    "plt.grid()\n",
    "plt.show"
   ]
  },
  {
   "cell_type": "code",
   "execution_count": 6,
   "id": "13ce1a03",
   "metadata": {},
   "outputs": [
    {
     "name": "stdout",
     "output_type": "stream",
     "text": [
      "la courbe est maximal en l' Annees    2002\n",
      "dtype: int64\n"
     ]
    }
   ],
   "source": [
    "#question_5\n",
    "g=toubacouta.groupby('Janv').Annees.min()\n",
    "k=pd.DataFrame(g)\n",
    "K=k.max()\n",
    "print(\"la courbe est maximal en l'\",K)"
   ]
  },
  {
   "cell_type": "code",
   "execution_count": 7,
   "id": "73f6f567",
   "metadata": {},
   "outputs": [
    {
     "name": "stdout",
     "output_type": "stream",
     "text": [
      "la moyenne du pluvio pour chaque année de 1950 à 1969:\n",
      " [2.35000000e-01 8.70000000e-01 0.00000000e+00 1.00000000e-02\n",
      " 2.92500000e+00 6.40000000e+01 2.05440000e+02 3.84321053e+02\n",
      " 2.90685000e+02 9.16350000e+01 7.68500000e+00 5.45000000e-01]\n"
     ]
    }
   ],
   "source": [
    "#QUESTION_6\n",
    "#INTERVALLE_1\n",
    "d=toubacouta.iloc[0:20]\n",
    "f=d.drop([\"Stations\", \"Annees\"], axis=1)\n",
    "M1=np.nanmean(f,axis=0)\n",
    "print(\"la moyenne du pluvio pour chaque année de 1950 à\"\n",
    "      \" 1969:\\n\", M1)"
   ]
  },
  {
   "cell_type": "code",
   "execution_count": 8,
   "id": "ef22b539",
   "metadata": {},
   "outputs": [
    {
     "name": "stdout",
     "output_type": "stream",
     "text": [
      "la moyenne du pluvio pour chaque années de 1970 à1999 :\n",
      " [  1.40333333   0.5          0.           0.           3.5\n",
      "  49.63333333 165.31724138 242.81034483 185.73        42.09666667\n",
      "   1.03         1.03666667]\n"
     ]
    }
   ],
   "source": [
    "d2=toubacouta.iloc[20:50]\n",
    "f2=d2.drop([\"Stations\", \"Annees\"], axis=1)\n",
    "M2=np.nanmean(f2,axis=0)\n",
    "print(\"la moyenne du pluvio pour chaque années de 1970 à\"\n",
    "      \"1999 :\\n\", M2)"
   ]
  },
  {
   "cell_type": "code",
   "execution_count": 9,
   "id": "ea244e8e",
   "metadata": {},
   "outputs": [
    {
     "name": "stdout",
     "output_type": "stream",
     "text": [
      "la moyenne du pluvio pour chaque années de 1970 à1999 :\n",
      " [  1.68333333   0.36111111   0.           0.           1.77777778\n",
      "  33.58333333 153.70555556 303.87777778 249.15        51.05294118\n",
      "   0.           1.68333333]\n"
     ]
    }
   ],
   "source": [
    "d3=toubacouta.iloc[50:68]\n",
    "f3=d3.drop([\"Stations\", \"Annees\"], axis=1)\n",
    "M3=np.nanmean(f3,axis=0)\n",
    "print(\"la moyenne du pluvio pour chaque années de 1970 à\"\n",
    "      \"1999 :\\n\", M3)"
   ]
  },
  {
   "cell_type": "code",
   "execution_count": 10,
   "id": "db897fdf",
   "metadata": {},
   "outputs": [
    {
     "data": {
      "image/png": "[encoded data removed]",
      "text/plain": [
       "<Figure size 720x360 with 1 Axes>"
      ]
     },
     "metadata": {
      "needs_background": "light"
     },
     "output_type": "display_data"
    }
   ],
   "source": [
    "#QUESTION_7\n",
    "x = d.columns[2:]\n",
    "y = M1\n",
    "fig0, axe0=plt.subplots(figsize=(10,5))\n",
    "plt.plot(x, y)\n",
    "plt.title(\"courbe pluvio [1950,1969]\")\n",
    "plt.xlabel(\"MOIS\")\n",
    "plt.ylabel(\"MOYENNE PLUVIO [1950,1969]\")\n",
    "plt.grid()\n",
    "plt.show()"
   ]
  },
  {
   "cell_type": "code",
   "execution_count": 11,
   "id": "aef8a606",
   "metadata": {},
   "outputs": [
    {
     "data": {
      "image/png": "[encoded data removed]",
      "text/plain": [
       "<Figure size 720x360 with 1 Axes>"
      ]
     },
     "metadata": {
      "needs_background": "light"
     },
     "output_type": "display_data"
    }
   ],
   "source": [
    "#QUESTION_8\n",
    "x = d.columns[2:]\n",
    "y = M2\n",
    "fig0, axe0=plt.subplots(figsize=(10,5))\n",
    "plt.plot(x, y)\n",
    "plt.title(\"courbe pluvio [1970,1999]\")\n",
    "plt.xlabel(\"MOIS\")\n",
    "plt.ylabel(\"MOYENNE PLUVIO [1970,1999]\")\n",
    "plt.grid()\n",
    "plt.show()"
   ]
  },
  {
   "cell_type": "code",
   "execution_count": 12,
   "id": "df3c78c6",
   "metadata": {},
   "outputs": [
    {
     "data": {
      "image/png": "[encoded data removed]",
      "text/plain": [
       "<Figure size 720x360 with 1 Axes>"
      ]
     },
     "metadata": {
      "needs_background": "light"
     },
     "output_type": "display_data"
    }
   ],
   "source": [
    "#QUESTION_9\n",
    "x = d.columns[2:]\n",
    "y = M3\n",
    "fig0, axe0=plt.subplots(figsize=(10,5))\n",
    "plt.plot(x,y)\n",
    "plt.title(\"courbe pluvio [2000,2017]\")\n",
    "plt.xlabel(\"MOIS\")\n",
    "plt.ylabel(\"MOYENNE PLUVIO [2000,2017]\")\n",
    "plt.grid()\n",
    "plt.show()"
   ]
  },
  {
   "cell_type": "code",
   "execution_count": 13,
   "id": "784901e9",
   "metadata": {},
   "outputs": [
    {
     "data": {
      "text/plain": [
       "array([1289.5, 1195.7, 1146.8, 1069. ,  545.8, 1170.3,  912.9, 1184.3,\n",
       "       1552.4, 1007.1,  949.5,  720.6,  859.2,  857.3, 1164.2, 1110.2,\n",
       "       1050.7, 1223. ,  608.1,  966.1,  721.8,  919.1,  436.2,  701.6,\n",
       "        768. , 1004.7,  710.8,  475. ,  916.8,  788.1,  473. ,  701.2,\n",
       "        362.8,  523.3,  452. ,  649.8,  706.8,  696.7,  927.9,  968.5,\n",
       "        525.7,  494. ,  590.8,  630.7,  845.5,  429.6,  597.6,  697.6,\n",
       "        663.4, 1004.6,  862.6,  687.8,  678.6,  584.8,  460.4,  865.1,\n",
       "        761.4,  473.5,  967. , 1089.7, 1079.1,  350.6,  970.5, 1267. ,\n",
       "        816. ,  946.3,  927.3,  505. ])"
      ]
     },
     "execution_count": 13,
     "metadata": {},
     "output_type": "execute_result"
    }
   ],
   "source": [
    "#QUESTIO_10-1\n",
    "f=toubacouta.drop([\"Stations\", \"Annees\"], axis=1)\n",
    "M1=np.nansum(f,axis=1)\n",
    "M1"
   ]
  },
  {
   "cell_type": "code",
   "execution_count": 14,
   "id": "a6693e4f",
   "metadata": {},
   "outputs": [
    {
     "data": {
      "text/plain": [
       "812.6323529411766"
      ]
     },
     "execution_count": 14,
     "metadata": {},
     "output_type": "execute_result"
    }
   ],
   "source": [
    "#QUESTION_10-2\n",
    "moy_sum=M1.mean()\n",
    "moy_sum"
   ]
  },
  {
   "cell_type": "code",
   "execution_count": 15,
   "id": "69fc374b",
   "metadata": {},
   "outputs": [
    {
     "data": {
      "text/plain": [
       "array([ 476.86764706,  383.06764706,  334.16764706,  256.36764706,\n",
       "       -266.83235294,  357.66764706,  100.26764706,  371.66764706,\n",
       "        739.76764706,  194.46764706,  136.86764706,  -92.03235294,\n",
       "         46.56764706,   44.66764706,  351.56764706,  297.56764706,\n",
       "        238.06764706,  410.36764706, -204.53235294,  153.46764706,\n",
       "        -90.83235294,  106.46764706, -376.43235294, -111.03235294,\n",
       "        -44.63235294,  192.06764706, -101.83235294, -337.63235294,\n",
       "        104.16764706,  -24.53235294, -339.63235294, -111.43235294,\n",
       "       -449.83235294, -289.33235294, -360.63235294, -162.83235294,\n",
       "       -105.83235294, -115.93235294,  115.26764706,  155.86764706,\n",
       "       -286.93235294, -318.63235294, -221.83235294, -181.93235294,\n",
       "         32.86764706, -383.03235294, -215.03235294, -115.03235294,\n",
       "       -149.23235294,  191.96764706,   49.96764706, -124.83235294,\n",
       "       -134.03235294, -227.83235294, -352.23235294,   52.46764706,\n",
       "        -51.23235294, -339.13235294,  154.36764706,  277.06764706,\n",
       "        266.46764706, -462.03235294,  157.86764706,  454.36764706,\n",
       "          3.36764706,  133.66764706,  114.66764706, -307.63235294])"
      ]
     },
     "execution_count": 15,
     "metadata": {},
     "output_type": "execute_result"
    }
   ],
   "source": [
    "#QUESTION_10-3\n",
    "diff=M1-moy_sum\n",
    "diff"
   ]
  },
  {
   "cell_type": "code",
   "execution_count": 16,
   "id": "becc90ce",
   "metadata": {},
   "outputs": [
    {
     "data": {
      "image/png": "[encoded data removed]",
      "text/plain": [
       "<Figure size 1080x432 with 1 Axes>"
      ]
     },
     "metadata": {
      "needs_background": "light"
     },
     "output_type": "display_data"
    }
   ],
   "source": [
    "import matplotlib.pyplot as plt\n",
    "import numpy as np\n",
    "z = toubacouta.Annees\n",
    "y = diff\n",
    "largeur = 0.5\n",
    "fig ,axe=plt.subplots(figsize=(15,6))\n",
    "plt.grid()\n",
    "plt.bar(z, y, largeur, label='pluviometrie annuelle')\n",
    "plt.legend()\n",
    "plt.show()"
   ]
  },
  {
   "cell_type": "code",
   "execution_count": 17,
   "id": "fbb6b59e",
   "metadata": {},
   "outputs": [
    {
     "data": {
      "image/png": "[encoded data removed]",
      "text/plain": [
       "<Figure size 1080x432 with 1 Axes>"
      ]
     },
     "metadata": {
      "needs_background": "light"
     },
     "output_type": "display_data"
    }
   ],
   "source": [
    "#QUESTION_12.1\n",
    "#vecteur_somme\n",
    "k=d.drop([\"Stations\", \"Annees\"], axis=1)\n",
    "h1=np.nansum(k,axis=1)\n",
    "h1\n",
    "#moyenne_du_vecteur\n",
    "moy1_sum=h1.mean()\n",
    "moy1_sum\n",
    "diff1=h1-moy1_sum\n",
    "diff1\n",
    "#courbe_[1950 à 1969]\n",
    "z = d.Annees\n",
    "y1 = diff1\n",
    "largeur = 0.5\n",
    "fig5 ,axe5=plt.subplots(figsize=(15,6))\n",
    "plt.grid()\n",
    "plt.bar(z, y1, largeur, label='pluviometrie de 1950 à 1969')\n",
    "plt.legend()\n",
    "plt.show()"
   ]
  },
  {
   "cell_type": "code",
   "execution_count": 18,
   "id": "f91f29db",
   "metadata": {},
   "outputs": [
    {
     "data": {
      "image/png": "[encoded data removed]",
      "text/plain": [
       "<Figure size 1080x432 with 1 Axes>"
      ]
     },
     "metadata": {
      "needs_background": "light"
     },
     "output_type": "display_data"
    }
   ],
   "source": [
    "#QUESTION_12.2\n",
    "#vecteur_somme\n",
    "k2=d2.drop([\"Stations\", \"Annees\"], axis=1)\n",
    "h2=np.nansum(k2,axis=1)\n",
    "h2\n",
    "#moyenne_du_vecteur\n",
    "moy2_sum=h2.mean()\n",
    "moy2_sum\n",
    "diff2=h2-moy2_sum\n",
    "diff2\n",
    "#courbe_[1950 à 1969]\n",
    "z = d2.Annees\n",
    "y2 = diff2\n",
    "largeur = 0.5\n",
    "fig6 ,axe6=plt.subplots(figsize=(15,6))\n",
    "plt.grid()\n",
    "plt.bar(z, y2, largeur, label='pluviometrie de 1970 à 1999')\n",
    "plt.legend()\n",
    "plt.show()"
   ]
  },
  {
   "cell_type": "code",
   "execution_count": 19,
   "id": "a3842625",
   "metadata": {},
   "outputs": [
    {
     "data": {
      "image/png": "[encoded data removed]",
      "text/plain": [
       "<Figure size 1080x432 with 1 Axes>"
      ]
     },
     "metadata": {
      "needs_background": "light"
     },
     "output_type": "display_data"
    }
   ],
   "source": [
    "#QUESTION_12.3\n",
    "#vecteur_somme\n",
    "k3=d3.drop([\"Stations\", \"Annees\"], axis=1)\n",
    "h3=np.nansum(k3,axis=1)\n",
    "h3\n",
    "#moyenne_du_vecteur\n",
    "moy3_sum=h3.mean()\n",
    "moy3_sum\n",
    "diff3=h3-moy3_sum\n",
    "diff3\n",
    "#courbe_[1950 à 1969]\n",
    "z = d3.Annees\n",
    "y3 = diff3\n",
    "largeur = 0.5\n",
    "fig7 ,axe7=plt.subplots(figsize=(15,6))\n",
    "plt.grid()\n",
    "plt.bar(z, y3, largeur, label='pluviometrie de 2000 à 2017')\n",
    "plt.legend()\n",
    "w=plt.show()\n",
    "w"
   ]
  },
  {
   "cell_type": "code",
   "execution_count": 21,
   "id": "db18b82d",
   "metadata": {},
   "outputs": [
    {
     "data": {
      "text/plain": [
       "<function matplotlib.pyplot.show(close=None, block=None)>"
      ]
     },
     "execution_count": 21,
     "metadata": {},
     "output_type": "execute_result"
    }
   ],
   "source": [
    "#1950-1969\n",
    "import xlwings as xw\n",
    "A=xw.Book(\"pluvio_senegal.xlsx\")\n",
    "A.sheets.add(\"pluvio 1950-1969\")\n",
    "feuille=A.sheets[\"pluvio 1950-1969\"]\n",
    "axe5=axe5.get_figure()\n",
    "feuille.pictures.add(axe5,name=\" 1950_1969\",update=True)\n",
    "plt.show\n"
   ]
  },
  {
   "cell_type": "code",
   "execution_count": 22,
   "id": "d103f34c",
   "metadata": {},
   "outputs": [
    {
     "data": {
      "text/plain": [
       "<function matplotlib.pyplot.show(close=None, block=None)>"
      ]
     },
     "execution_count": 22,
     "metadata": {},
     "output_type": "execute_result"
    }
   ],
   "source": [
    "#1970-1999\n",
    "import xlwings as xw\n",
    "A=xw.Book(\"pluvio_senegal.xlsx\")\n",
    "A.sheets.add(\"pluvio 1970-1999\")\n",
    "feuille=A.sheets[\"pluvio 1970-1999\"]\n",
    "axe6=axe6.get_figure()\n",
    "feuille.pictures.add(axe5,name=\" 1970_1999\",update=True)\n",
    "plt.show"
   ]
  },
  {
   "cell_type": "code",
   "execution_count": 23,
   "id": "108c93b1",
   "metadata": {},
   "outputs": [
    {
     "data": {
      "text/plain": [
       "<function matplotlib.pyplot.show(close=None, block=None)>"
      ]
     },
     "execution_count": 23,
     "metadata": {},
     "output_type": "execute_result"
    }
   ],
   "source": [
    "#2000-2017\n",
    "import xlwings as xw\n",
    "A=xw.Book(\"pluvio_senegal.xlsx\")\n",
    "A.sheets.add(\"pluvio 2000-2017\")\n",
    "feuille=A.sheets[\"pluvio 2000-2017\"]\n",
    "axe7=axe7.get_figure()\n",
    "feuille.pictures.add(axe5,name=\" 1950_1969\",update=True)\n",
    "plt.show"
   ]
  },
  {
   "cell_type": "code",
   "execution_count": null,
   "id": "c520294b",
   "metadata": {},
   "outputs": [],
   "source": []
  }
 ],
 "metadata": {
  "kernelspec": {
   "display_name": "Python 3 (ipykernel)",
   "language": "python",
   "name": "python3"
  },
  "language_info": {
   "codemirror_mode": {
    "name": "ipython",
    "version": 3
   },
   "file_extension": ".py",
   "mimetype": "text/x-python",
   "name": "python",
   "nbconvert_exporter": "python",
   "pygments_lexer": "ipython3",
   "version": "3.9.7"
  }
 },
 "nbformat": 4,
 "nbformat_minor": 5
}
